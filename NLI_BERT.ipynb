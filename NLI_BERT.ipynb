{
  "nbformat": 4,
  "nbformat_minor": 0,
  "metadata": {
    "colab": {
      "provenance": []
    },
    "kernelspec": {
      "name": "python3",
      "display_name": "Python 3"
    },
    "language_info": {
      "name": "python"
    },
    "accelerator": "GPU",
    "gpuClass": "standard",
    "widgets": {
      "application/vnd.jupyter.widget-state+json": {
        "4485c3f2566942e7b15a8643c54ace42": {
          "model_module": "@jupyter-widgets/controls",
          "model_name": "HBoxModel",
          "model_module_version": "1.5.0",
          "state": {
            "_dom_classes": [],
            "_model_module": "@jupyter-widgets/controls",
            "_model_module_version": "1.5.0",
            "_model_name": "HBoxModel",
            "_view_count": null,
            "_view_module": "@jupyter-widgets/controls",
            "_view_module_version": "1.5.0",
            "_view_name": "HBoxView",
            "box_style": "",
            "children": [
              "IPY_MODEL_5d409b93608c483cbf309afc0b9f4f85",
              "IPY_MODEL_6bafd87916fc43c1b05c956809ede505",
              "IPY_MODEL_9da7ebd6142847dbbf1fa999c6ce7bba"
            ],
            "layout": "IPY_MODEL_c5e025e809e746d6b49d52a52855ffc2"
          }
        },
        "5d409b93608c483cbf309afc0b9f4f85": {
          "model_module": "@jupyter-widgets/controls",
          "model_name": "HTMLModel",
          "model_module_version": "1.5.0",
          "state": {
            "_dom_classes": [],
            "_model_module": "@jupyter-widgets/controls",
            "_model_module_version": "1.5.0",
            "_model_name": "HTMLModel",
            "_view_count": null,
            "_view_module": "@jupyter-widgets/controls",
            "_view_module_version": "1.5.0",
            "_view_name": "HTMLView",
            "description": "",
            "description_tooltip": null,
            "layout": "IPY_MODEL_aea37ffbbef54d7481fa0cb1dab89347",
            "placeholder": "​",
            "style": "IPY_MODEL_143d089756a84f5b932204d56dacf4dc",
            "value": "100%"
          }
        },
        "6bafd87916fc43c1b05c956809ede505": {
          "model_module": "@jupyter-widgets/controls",
          "model_name": "FloatProgressModel",
          "model_module_version": "1.5.0",
          "state": {
            "_dom_classes": [],
            "_model_module": "@jupyter-widgets/controls",
            "_model_module_version": "1.5.0",
            "_model_name": "FloatProgressModel",
            "_view_count": null,
            "_view_module": "@jupyter-widgets/controls",
            "_view_module_version": "1.5.0",
            "_view_name": "ProgressView",
            "bar_style": "success",
            "description": "",
            "description_tooltip": null,
            "layout": "IPY_MODEL_3a2fcca4c8c84941a0d6d984964f0522",
            "max": 3,
            "min": 0,
            "orientation": "horizontal",
            "style": "IPY_MODEL_b52686fe22ec47dfac6097e5f484eb77",
            "value": 3
          }
        },
        "9da7ebd6142847dbbf1fa999c6ce7bba": {
          "model_module": "@jupyter-widgets/controls",
          "model_name": "HTMLModel",
          "model_module_version": "1.5.0",
          "state": {
            "_dom_classes": [],
            "_model_module": "@jupyter-widgets/controls",
            "_model_module_version": "1.5.0",
            "_model_name": "HTMLModel",
            "_view_count": null,
            "_view_module": "@jupyter-widgets/controls",
            "_view_module_version": "1.5.0",
            "_view_name": "HTMLView",
            "description": "",
            "description_tooltip": null,
            "layout": "IPY_MODEL_266248b99bae4835a73b2404135c9da4",
            "placeholder": "​",
            "style": "IPY_MODEL_7367bd98103a4680b615190eb0a46817",
            "value": " 3/3 [00:00&lt;00:00, 65.90it/s]"
          }
        },
        "c5e025e809e746d6b49d52a52855ffc2": {
          "model_module": "@jupyter-widgets/base",
          "model_name": "LayoutModel",
          "model_module_version": "1.2.0",
          "state": {
            "_model_module": "@jupyter-widgets/base",
            "_model_module_version": "1.2.0",
            "_model_name": "LayoutModel",
            "_view_count": null,
            "_view_module": "@jupyter-widgets/base",
            "_view_module_version": "1.2.0",
            "_view_name": "LayoutView",
            "align_content": null,
            "align_items": null,
            "align_self": null,
            "border": null,
            "bottom": null,
            "display": null,
            "flex": null,
            "flex_flow": null,
            "grid_area": null,
            "grid_auto_columns": null,
            "grid_auto_flow": null,
            "grid_auto_rows": null,
            "grid_column": null,
            "grid_gap": null,
            "grid_row": null,
            "grid_template_areas": null,
            "grid_template_columns": null,
            "grid_template_rows": null,
            "height": null,
            "justify_content": null,
            "justify_items": null,
            "left": null,
            "margin": null,
            "max_height": null,
            "max_width": null,
            "min_height": null,
            "min_width": null,
            "object_fit": null,
            "object_position": null,
            "order": null,
            "overflow": null,
            "overflow_x": null,
            "overflow_y": null,
            "padding": null,
            "right": null,
            "top": null,
            "visibility": null,
            "width": null
          }
        },
        "aea37ffbbef54d7481fa0cb1dab89347": {
          "model_module": "@jupyter-widgets/base",
          "model_name": "LayoutModel",
          "model_module_version": "1.2.0",
          "state": {
            "_model_module": "@jupyter-widgets/base",
            "_model_module_version": "1.2.0",
            "_model_name": "LayoutModel",
            "_view_count": null,
            "_view_module": "@jupyter-widgets/base",
            "_view_module_version": "1.2.0",
            "_view_name": "LayoutView",
            "align_content": null,
            "align_items": null,
            "align_self": null,
            "border": null,
            "bottom": null,
            "display": null,
            "flex": null,
            "flex_flow": null,
            "grid_area": null,
            "grid_auto_columns": null,
            "grid_auto_flow": null,
            "grid_auto_rows": null,
            "grid_column": null,
            "grid_gap": null,
            "grid_row": null,
            "grid_template_areas": null,
            "grid_template_columns": null,
            "grid_template_rows": null,
            "height": null,
            "justify_content": null,
            "justify_items": null,
            "left": null,
            "margin": null,
            "max_height": null,
            "max_width": null,
            "min_height": null,
            "min_width": null,
            "object_fit": null,
            "object_position": null,
            "order": null,
            "overflow": null,
            "overflow_x": null,
            "overflow_y": null,
            "padding": null,
            "right": null,
            "top": null,
            "visibility": null,
            "width": null
          }
        },
        "143d089756a84f5b932204d56dacf4dc": {
          "model_module": "@jupyter-widgets/controls",
          "model_name": "DescriptionStyleModel",
          "model_module_version": "1.5.0",
          "state": {
            "_model_module": "@jupyter-widgets/controls",
            "_model_module_version": "1.5.0",
            "_model_name": "DescriptionStyleModel",
            "_view_count": null,
            "_view_module": "@jupyter-widgets/base",
            "_view_module_version": "1.2.0",
            "_view_name": "StyleView",
            "description_width": ""
          }
        },
        "3a2fcca4c8c84941a0d6d984964f0522": {
          "model_module": "@jupyter-widgets/base",
          "model_name": "LayoutModel",
          "model_module_version": "1.2.0",
          "state": {
            "_model_module": "@jupyter-widgets/base",
            "_model_module_version": "1.2.0",
            "_model_name": "LayoutModel",
            "_view_count": null,
            "_view_module": "@jupyter-widgets/base",
            "_view_module_version": "1.2.0",
            "_view_name": "LayoutView",
            "align_content": null,
            "align_items": null,
            "align_self": null,
            "border": null,
            "bottom": null,
            "display": null,
            "flex": null,
            "flex_flow": null,
            "grid_area": null,
            "grid_auto_columns": null,
            "grid_auto_flow": null,
            "grid_auto_rows": null,
            "grid_column": null,
            "grid_gap": null,
            "grid_row": null,
            "grid_template_areas": null,
            "grid_template_columns": null,
            "grid_template_rows": null,
            "height": null,
            "justify_content": null,
            "justify_items": null,
            "left": null,
            "margin": null,
            "max_height": null,
            "max_width": null,
            "min_height": null,
            "min_width": null,
            "object_fit": null,
            "object_position": null,
            "order": null,
            "overflow": null,
            "overflow_x": null,
            "overflow_y": null,
            "padding": null,
            "right": null,
            "top": null,
            "visibility": null,
            "width": null
          }
        },
        "b52686fe22ec47dfac6097e5f484eb77": {
          "model_module": "@jupyter-widgets/controls",
          "model_name": "ProgressStyleModel",
          "model_module_version": "1.5.0",
          "state": {
            "_model_module": "@jupyter-widgets/controls",
            "_model_module_version": "1.5.0",
            "_model_name": "ProgressStyleModel",
            "_view_count": null,
            "_view_module": "@jupyter-widgets/base",
            "_view_module_version": "1.2.0",
            "_view_name": "StyleView",
            "bar_color": null,
            "description_width": ""
          }
        },
        "266248b99bae4835a73b2404135c9da4": {
          "model_module": "@jupyter-widgets/base",
          "model_name": "LayoutModel",
          "model_module_version": "1.2.0",
          "state": {
            "_model_module": "@jupyter-widgets/base",
            "_model_module_version": "1.2.0",
            "_model_name": "LayoutModel",
            "_view_count": null,
            "_view_module": "@jupyter-widgets/base",
            "_view_module_version": "1.2.0",
            "_view_name": "LayoutView",
            "align_content": null,
            "align_items": null,
            "align_self": null,
            "border": null,
            "bottom": null,
            "display": null,
            "flex": null,
            "flex_flow": null,
            "grid_area": null,
            "grid_auto_columns": null,
            "grid_auto_flow": null,
            "grid_auto_rows": null,
            "grid_column": null,
            "grid_gap": null,
            "grid_row": null,
            "grid_template_areas": null,
            "grid_template_columns": null,
            "grid_template_rows": null,
            "height": null,
            "justify_content": null,
            "justify_items": null,
            "left": null,
            "margin": null,
            "max_height": null,
            "max_width": null,
            "min_height": null,
            "min_width": null,
            "object_fit": null,
            "object_position": null,
            "order": null,
            "overflow": null,
            "overflow_x": null,
            "overflow_y": null,
            "padding": null,
            "right": null,
            "top": null,
            "visibility": null,
            "width": null
          }
        },
        "7367bd98103a4680b615190eb0a46817": {
          "model_module": "@jupyter-widgets/controls",
          "model_name": "DescriptionStyleModel",
          "model_module_version": "1.5.0",
          "state": {
            "_model_module": "@jupyter-widgets/controls",
            "_model_module_version": "1.5.0",
            "_model_name": "DescriptionStyleModel",
            "_view_count": null,
            "_view_module": "@jupyter-widgets/base",
            "_view_module_version": "1.2.0",
            "_view_name": "StyleView",
            "description_width": ""
          }
        }
      }
    }
  },
  "cells": [
    {
      "cell_type": "code",
      "source": [
        "!pip install transformers\n",
        "!pip install datasets"
      ],
      "metadata": {
        "id": "-gbzw1myiQ_C"
      },
      "execution_count": null,
      "outputs": []
    },
    {
      "cell_type": "code",
      "source": [
        "import torch\n",
        "from torch.utils.data import DataLoader, Dataset, TensorDataset\n",
        "from datasets import load_dataset\n",
        "from transformers import BertTokenizer, BertModel, BertForSequenceClassification, BertConfig\n",
        "from transformers import Trainer, TrainingArguments\n",
        "from transformers import AdamW, get_cosine_schedule_with_warmup\n",
        "from sklearn.metrics import classification_report, accuracy_score\n",
        "from tqdm import tqdm\n",
        "import matplotlib.pyplot as plt\n",
        "import seaborn as sns\n",
        "%matplotlib inline"
      ],
      "metadata": {
        "id": "MdSyZW2jhCD3"
      },
      "execution_count": 1,
      "outputs": []
    },
    {
      "cell_type": "code",
      "source": [
        "dataset = load_dataset('kiddothe2b/contract-nli', 'contractnli_a') # https://huggingface.co/datasets/kiddothe2b/contract-nli\n",
        "\n",
        "train_data = dataset['train']\n",
        "val_data = dataset['validation']\n",
        "test_data = dataset['test']"
      ],
      "metadata": {
        "id": "jWEx3R3Iiv0d",
        "colab": {
          "base_uri": "https://localhost:8080/",
          "height": 86,
          "referenced_widgets": [
            "4485c3f2566942e7b15a8643c54ace42",
            "5d409b93608c483cbf309afc0b9f4f85",
            "6bafd87916fc43c1b05c956809ede505",
            "9da7ebd6142847dbbf1fa999c6ce7bba",
            "c5e025e809e746d6b49d52a52855ffc2",
            "aea37ffbbef54d7481fa0cb1dab89347",
            "143d089756a84f5b932204d56dacf4dc",
            "3a2fcca4c8c84941a0d6d984964f0522",
            "b52686fe22ec47dfac6097e5f484eb77",
            "266248b99bae4835a73b2404135c9da4",
            "7367bd98103a4680b615190eb0a46817"
          ]
        },
        "outputId": "39e8b9c8-1543-403b-82b9-6f3037a8edcf"
      },
      "execution_count": 2,
      "outputs": [
        {
          "output_type": "stream",
          "name": "stderr",
          "text": [
            "WARNING:datasets.builder:Found cached dataset contract-nli (/root/.cache/huggingface/datasets/kiddothe2b___contract-nli/contractnli_a/1.0.0/e31e15bfaa5fa84ed7066adc48fdc0f6ee52959a4cd81086aecbecd14b5e7078)\n"
          ]
        },
        {
          "output_type": "display_data",
          "data": {
            "text/plain": [
              "  0%|          | 0/3 [00:00<?, ?it/s]"
            ],
            "application/vnd.jupyter.widget-view+json": {
              "version_major": 2,
              "version_minor": 0,
              "model_id": "4485c3f2566942e7b15a8643c54ace42"
            }
          },
          "metadata": {}
        }
      ]
    },
    {
      "cell_type": "code",
      "source": [
        "train_texts_premise = train_data['premise']\n",
        "train_texts_hypothesis = train_data['hypothesis']\n",
        "train_labels = train_data['label']\n",
        "\n",
        "val_texts_premise = val_data['premise']\n",
        "val_texts_hypothesis = val_data['hypothesis']\n",
        "val_labels = val_data['label']\n",
        "\n",
        "test_texts_premise = test_data['premise']\n",
        "test_texts_hypothesis = test_data['hypothesis']\n",
        "test_labels = test_data['label']"
      ],
      "metadata": {
        "id": "XG5NQ8dZi0Jz"
      },
      "execution_count": 3,
      "outputs": []
    },
    {
      "cell_type": "code",
      "source": [
        "len(train_labels), len(val_labels), len(test_labels)"
      ],
      "metadata": {
        "colab": {
          "base_uri": "https://localhost:8080/"
        },
        "id": "zhOg4XTCllSY",
        "outputId": "8f42bf2a-43f4-43cc-9e6a-fbce0e103573"
      },
      "execution_count": 4,
      "outputs": [
        {
          "output_type": "execute_result",
          "data": {
            "text/plain": [
              "(6819, 978, 1991)"
            ]
          },
          "metadata": {},
          "execution_count": 4
        }
      ]
    },
    {
      "cell_type": "code",
      "source": [
        "train_texts_premise = train_texts_premise[:1000]\n",
        "train_texts_hypothesis = train_texts_hypothesis[:1000]\n",
        "train_labels = train_labels[:1000]\n",
        "\n",
        "val_texts_premise = val_texts_premise[:200]\n",
        "val_texts_hypothesis = val_texts_hypothesis[:200]\n",
        "val_labels = val_labels[:200]\n",
        "\n",
        "test_texts_premise = test_texts_premise[:500]\n",
        "test_texts_hypothesis = test_texts_hypothesis[:500]\n",
        "test_labels = test_labels[:500]"
      ],
      "metadata": {
        "id": "3vTUlqgj1mnf"
      },
      "execution_count": 5,
      "outputs": []
    },
    {
      "cell_type": "code",
      "source": [
        "len(train_labels), len(val_labels), len(test_labels)"
      ],
      "metadata": {
        "colab": {
          "base_uri": "https://localhost:8080/"
        },
        "id": "2mm-XLC62Ie8",
        "outputId": "08dc9d5d-6dd3-40e1-dbbd-2573c5df6e1f"
      },
      "execution_count": 6,
      "outputs": [
        {
          "output_type": "execute_result",
          "data": {
            "text/plain": [
              "(1000, 200, 500)"
            ]
          },
          "metadata": {},
          "execution_count": 6
        }
      ]
    },
    {
      "cell_type": "markdown",
      "source": [
        "# BERT"
      ],
      "metadata": {
        "id": "Hx0SDTOw9eI2"
      }
    },
    {
      "cell_type": "code",
      "source": [
        "model_config = BertConfig.from_pretrained('bert-base-multilingual-uncased', num_labels=3)\n",
        "model = BertForSequenceClassification.from_pretrained('bert-base-multilingual-uncased', config=model_config)\n",
        "tokenizer = BertTokenizer.from_pretrained('bert-base-multilingual-uncased')"
      ],
      "metadata": {
        "colab": {
          "base_uri": "https://localhost:8080/"
        },
        "id": "XL_konxfylot",
        "outputId": "f8178e3b-8739-4926-cc03-78c48b3ae879"
      },
      "execution_count": 7,
      "outputs": [
        {
          "output_type": "stream",
          "name": "stderr",
          "text": [
            "Some weights of the model checkpoint at bert-base-multilingual-uncased were not used when initializing BertForSequenceClassification: ['cls.seq_relationship.bias', 'cls.predictions.transform.LayerNorm.bias', 'cls.predictions.transform.dense.weight', 'cls.seq_relationship.weight', 'cls.predictions.bias', 'cls.predictions.transform.LayerNorm.weight', 'cls.predictions.transform.dense.bias', 'cls.predictions.decoder.weight']\n",
            "- This IS expected if you are initializing BertForSequenceClassification from the checkpoint of a model trained on another task or with another architecture (e.g. initializing a BertForSequenceClassification model from a BertForPreTraining model).\n",
            "- This IS NOT expected if you are initializing BertForSequenceClassification from the checkpoint of a model that you expect to be exactly identical (initializing a BertForSequenceClassification model from a BertForSequenceClassification model).\n",
            "Some weights of BertForSequenceClassification were not initialized from the model checkpoint at bert-base-multilingual-uncased and are newly initialized: ['classifier.bias', 'classifier.weight']\n",
            "You should probably TRAIN this model on a down-stream task to be able to use it for predictions and inference.\n"
          ]
        }
      ]
    },
    {
      "cell_type": "code",
      "source": [
        "train_inputs = tokenizer([x for x in train_texts_premise], [x for x in train_texts_hypothesis], \\\n",
        "                   padding=True, truncation='only_first', return_overflowing_tokens=True, return_tensors='pt')\n",
        "train_labels = torch.tensor([x for x in train_labels])\n",
        "\n",
        "train_dataset = torch.utils.data.TensorDataset(train_inputs['input_ids'], train_inputs['attention_mask'], train_inputs['token_type_ids'], train_labels)\n",
        "train_dataloader = DataLoader(train_dataset, batch_size=8, shuffle=True)"
      ],
      "metadata": {
        "id": "wZe0lRtuylme"
      },
      "execution_count": 8,
      "outputs": []
    },
    {
      "cell_type": "code",
      "source": [
        "val_inputs = tokenizer([x for x in val_texts_premise], [x for x in val_texts_hypothesis], \\\n",
        "                   padding=True, truncation='only_first', return_overflowing_tokens=True, return_tensors='pt')\n",
        "val_labels = torch.tensor([x for x in val_labels])\n",
        "\n",
        "val_dataset = torch.utils.data.TensorDataset(val_inputs['input_ids'], val_inputs['attention_mask'], val_inputs['token_type_ids'], val_labels)\n",
        "val_dataloader = DataLoader(val_dataset, batch_size=8, shuffle=True)"
      ],
      "metadata": {
        "id": "GoLnSkj_ylj-"
      },
      "execution_count": 9,
      "outputs": []
    },
    {
      "cell_type": "code",
      "source": [
        "test_inputs = tokenizer([x for x in test_texts_premise], [x for x in test_texts_hypothesis], \\\n",
        "                   padding=True, truncation='only_first', return_overflowing_tokens=True, return_tensors='pt')\n",
        "test_labels = torch.tensor([x for x in test_labels])\n",
        "\n",
        "test_dataset = torch.utils.data.TensorDataset(test_inputs['input_ids'], test_inputs['attention_mask'], test_inputs['token_type_ids'], test_labels)\n",
        "test_dataloader = DataLoader(test_dataset, batch_size=8, shuffle=True)"
      ],
      "metadata": {
        "id": "tWK-C3SUyt4-"
      },
      "execution_count": 10,
      "outputs": []
    },
    {
      "cell_type": "code",
      "source": [
        "total_epochs = 5\n",
        "\n",
        "optimizer = AdamW(model.parameters(), lr=1e-5)\n",
        "\n",
        "num_train_steps = len(train_dataloader) * total_epochs\n",
        "num_warmup_steps = int(num_train_steps * 0.1) \n",
        "\n",
        "lr_scheduler = get_cosine_schedule_with_warmup(optimizer,\n",
        "                                               num_warmup_steps=num_warmup_steps,\n",
        "                                               num_training_steps = num_train_steps)"
      ],
      "metadata": {
        "colab": {
          "base_uri": "https://localhost:8080/"
        },
        "id": "9DWXbfHx0Fgl",
        "outputId": "a78984be-cf48-48bb-afe4-badfe6d71e24"
      },
      "execution_count": 11,
      "outputs": [
        {
          "output_type": "stream",
          "name": "stderr",
          "text": [
            "/usr/local/lib/python3.9/dist-packages/transformers/optimization.py:391: FutureWarning: This implementation of AdamW is deprecated and will be removed in a future version. Use the PyTorch implementation torch.optim.AdamW instead, or set `no_deprecation_warning=True` to disable this warning\n",
            "  warnings.warn(\n"
          ]
        }
      ]
    },
    {
      "cell_type": "code",
      "source": [
        "def train(dataloader, optimizer, scheduler, device):\n",
        "    global model\n",
        "    model.train()\n",
        "    model.to(device)\n",
        "    \n",
        "    prediction_labels = []\n",
        "    true_labels = []\n",
        "    \n",
        "    total_loss = []\n",
        "    \n",
        "    for batch in dataloader:\n",
        "        batch_dict = {\n",
        "            'input_ids': batch[0],\n",
        "            'attention_mask': batch[1],\n",
        "            'token_type_ids': batch[2],\n",
        "            'labels': batch[3]\n",
        "        }\n",
        "        batch = batch_dict\n",
        "        true_labels += batch['labels'].numpy().flatten().tolist()\n",
        "        batch = {k:v.type(torch.long).to(device) for k, v in batch.items()}\n",
        "        \n",
        "        outputs = model(**batch)\n",
        "        loss, logits = outputs[:2]\n",
        "        logits = logits.detach().cpu().numpy()\n",
        "        total_loss.append(loss.item())\n",
        "        \n",
        "        optimizer.zero_grad()\n",
        "        loss.backward()\n",
        "        torch.nn.utils.clip_grad_norm_(model.parameters(), 1.0) # prevent exploding gradient\n",
        "\n",
        "        optimizer.step()\n",
        "        scheduler.step()\n",
        "        \n",
        "        prediction_labels += logits.argmax(axis=-1).flatten().tolist()\n",
        "    \n",
        "    return true_labels, prediction_labels, total_loss\n",
        "\n",
        "def validation(dataloader, device):\n",
        "    global model\n",
        "    model.eval()\n",
        "    model.to(device)\n",
        "    \n",
        "    prediction_labels = []\n",
        "    true_labels = []\n",
        "    \n",
        "    total_loss = []\n",
        "    \n",
        "    for batch in dataloader:\n",
        "        batch_dict = {\n",
        "              'input_ids': batch[0],\n",
        "              'attention_mask': batch[1],\n",
        "              'token_type_ids': batch[2],\n",
        "              'labels': batch[3]\n",
        "          }\n",
        "        batch = batch_dict\n",
        "        true_labels += batch['labels'].numpy().flatten().tolist()\n",
        "        batch = {k:v.type(torch.long).to(device) for k, v in batch.items()}\n",
        "        \n",
        "        with torch.no_grad():\n",
        "            outputs = model(**batch)\n",
        "            loss, logits = outputs[:2]\n",
        "            logits = logits.detach().cpu().numpy()\n",
        "            total_loss.append(loss.item())\n",
        "\n",
        "            prediction_labels += logits.argmax(axis=-1).flatten().tolist()\n",
        "        \n",
        "    return true_labels, prediction_labels, total_loss"
      ],
      "metadata": {
        "id": "VvEOPUIRylfk"
      },
      "execution_count": 12,
      "outputs": []
    },
    {
      "cell_type": "code",
      "source": [
        "device = 'cuda' if torch.cuda.is_available() else 'cpu'\n",
        "model.to(device)\n",
        "\n",
        "all_loss = {'train_loss': [], 'val_loss': []}\n",
        "all_acc = {'train_acc': [], 'val_acc': []}\n",
        "\n",
        "for epoch in range(total_epochs):\n",
        "    y, y_pred, train_loss = train(train_dataloader, optimizer, lr_scheduler, device)\n",
        "    train_acc = accuracy_score(y, y_pred)\n",
        "    \n",
        "    y, y_pred, val_loss = validation(val_dataloader, device)\n",
        "    val_acc = accuracy_score(y, y_pred)\n",
        "    \n",
        "    all_loss['train_loss'] += train_loss\n",
        "    all_loss['val_loss'] += val_loss\n",
        "    \n",
        "    all_acc['train_acc'].append(train_acc)\n",
        "    all_acc['val_acc'].append(val_acc)\n",
        "    \n",
        "    print(f'Epoch: {epoch}, train_loss: {torch.tensor(train_loss).mean():.3f}, train_acc: {train_acc:.3f}, val_loss: {torch.tensor(val_loss).mean():.3f}, val_acc: {val_acc:.3f}') "
      ],
      "metadata": {
        "colab": {
          "base_uri": "https://localhost:8080/"
        },
        "id": "WTDJSGQEyldJ",
        "outputId": "faa3552f-ff47-427f-e01c-4e5d6e8d8017"
      },
      "execution_count": 13,
      "outputs": [
        {
          "output_type": "stream",
          "name": "stdout",
          "text": [
            "Epoch: 0, train_loss: 0.952, train_acc: 0.558, val_loss: 0.743, val_acc: 0.690\n",
            "Epoch: 1, train_loss: 0.749, train_acc: 0.716, val_loss: 0.677, val_acc: 0.750\n",
            "Epoch: 2, train_loss: 0.650, train_acc: 0.754, val_loss: 0.641, val_acc: 0.750\n",
            "Epoch: 3, train_loss: 0.558, train_acc: 0.785, val_loss: 0.660, val_acc: 0.740\n",
            "Epoch: 4, train_loss: 0.516, train_acc: 0.815, val_loss: 0.657, val_acc: 0.750\n"
          ]
        }
      ]
    },
    {
      "cell_type": "code",
      "source": [
        "_, y_pred, _ = validation(test_dataloader, device)\n",
        "print(\"Accuracy: {}\".format(accuracy_score(test_labels, y_pred)))"
      ],
      "metadata": {
        "colab": {
          "base_uri": "https://localhost:8080/"
        },
        "id": "orV3qwLeylXk",
        "outputId": "7a83bbf0-6923-4701-ec36-08c98d0ba4a2"
      },
      "execution_count": 14,
      "outputs": [
        {
          "output_type": "stream",
          "name": "stdout",
          "text": [
            "Accuracy: 0.41\n"
          ]
        }
      ]
    },
    {
      "cell_type": "code",
      "source": [
        "model.eval()\n",
        "input_text1 = \"Everyone should not share confidential information with others without consent\"\n",
        "input_text2 = \"No one should share confidential information\"\n",
        "inputs = tokenizer(input_text1, input_text2, padding=True, truncation='only_first', return_tensors='pt')\n",
        "device = torch.device('cuda' if torch.cuda.is_available() else 'cpu')\n",
        "inputs = {k: v.to(device) for k, v in inputs.items()}\n",
        "with torch.no_grad():\n",
        "    outputs = model(**inputs)\n",
        "    logits = outputs.logits\n",
        "    predicted_class = torch.argmax(logits, dim=1).item()\n",
        "print(f\"Predicted class: {predicted_class}\")"
      ],
      "metadata": {
        "id": "gYX_4Y-w-Ykg",
        "colab": {
          "base_uri": "https://localhost:8080/"
        },
        "outputId": "8633ec5d-878e-427e-ce63-7f015d6e3e00"
      },
      "execution_count": 18,
      "outputs": [
        {
          "output_type": "stream",
          "name": "stdout",
          "text": [
            "Predicted class: 1\n"
          ]
        }
      ]
    },
    {
      "cell_type": "code",
      "source": [],
      "metadata": {
        "id": "SNKGciVADXSU"
      },
      "execution_count": null,
      "outputs": []
    }
  ]
}